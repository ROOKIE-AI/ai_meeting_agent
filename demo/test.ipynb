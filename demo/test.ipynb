{
 "cells": [
  {
   "cell_type": "markdown",
   "metadata": {},
   "source": [
    "# 维基百科搜索"
   ]
  },
  {
   "cell_type": "code",
   "execution_count": 2,
   "metadata": {},
   "outputs": [
    {
     "name": "stdout",
     "output_type": "stream",
     "text": [
      "搜索结果：\n",
      "Page: 人工智能\n",
      "Summary: 人工智能（英語：artificial intelligence，缩写为AI），稱機器智能，指由人製造出來的機器所表現出來的智慧。通常人工智能是指用普通電腦程式來呈現人類智能的技術。該詞也指出研究這樣的智能系統是否能夠實現，以及如何實現。同时，隨著醫學、神經科學、机器人学及統計學等方面的發展，普遍認為人類的部分職業也逐漸被其取代。\n",
      "人工智能於一般教材中的定义领域是“智慧主体（intelligent agent）的研究与设计”，智慧主体指一个可以观察周遭环境并作出行动以达致目标的系统。约翰·麦卡锡于1955年的定义是「制造智能机器的科学与工程」。安德烈亚斯·卡普兰和迈克尔·海恩莱因（Michael Haenlein）将人工智能定义为“系统正确解释外部数据，从这些数据中学习，并利用这些知识通过灵活适应实现特定目标和任务的能力”。人工智能可以定義為模仿人類與人類思維相關的認知功能的機器或計算機，如學習和解決問題。人工智能是計算機科學的一個分支，它感知其環境並採取行動，最大限度地提高其成功機會。此外，人工智能能夠從過去的經驗中學習，做出合理的決策，並快速回應。因此，人工智能研究人員的科學目標是通過構建具有象徵意義的推理或推理的計算機程式來理解智慧。人工智能的四個主要組成部分是：\n",
      "\n",
      "專家系統：作為專家處理正在審查的情況，併產生預期或預期的績效。\n",
      "启发式算法：包括評估小範圍的解決方案，並可能涉及一些猜測，以找到接近最佳的解決方案。\n",
      "自然語言處理：在自然語言中實現人機之間的交流。\n",
      "計算機視覺：自動生成識別形狀和功能的能力 。\n",
      "人工智能的研究是高度技术性和专业的，各分支领域都是深入且各不相通的，因而涉及範圍極廣。人工智能的研究可以分为几个技术问题。其分支领域主要集中在解决具体问题，其中之一是，如何使用各种不同的工具完成特定的应用程序。\n",
      "AI的核心问题包括建構能夠跟人類似甚至超卓的推理、知识、計划、学习、交流、感知、移動 、移物、使用工具和操控机械的能力等。通用人工智能（AGI）目前仍然是该领域的长远目标。目前弱人工智慧已經有初步成果，甚至在一些影像辨識、語言分析、棋類遊戲等等單方面的能力達到了超越人類的水平，而且人工智慧的通用性代表著，能解決上述的問題的是一樣的AI程式，無須重新開發算法就可以直接使用現有的AI完成任務，與人類的處理能力相同，但達到具備思考能力的統合強人工智慧還需要時間研究，比较流行的方法包括统计方法，计算智能和传统意义的AI。目前有大量的工具应用了人工智能，其中包括搜索和数学优化、逻辑推演。而基於仿生學、認知心理學，以及基于概率论和经济学的演算法等等也在逐步探索當中。\n",
      "\n",
      "Page: 深度求索\n",
      "Summary: 深度求索（DeepSeek），全称杭州深度求索人工智能基础技术研究有限公司，是中华人民共和国的一家人工智能与大型语言模型公司。该公司的总部位于中國大陆浙江省杭州市（注册地位于拱墅区），由中資对冲基金幻方量化创立，创始人和行政總裁为梁文锋。\n",
      "2025年1月10日，DeepSeek为iOS和安卓系统发布其首款免费的基于DeepSeek-R1模型聊天机器人程序。截止到27日，DeepSeek-R1超过ChatGPT成为美区iOS应用商店免费应用程序榜首，并导致英伟达股价大跌18%。DeepSeek成功挑战实力更强、更为著名的竞品从而被认为是颠覆人工智能、打响了全球人工智能领域竞赛的第一枪、引领人工智能下边缘政策新纪元。\n",
      "DeepSeek开源其生成式人工智能算法、模型和训练细节，允许其代码可被免费地使用、修改、浏览和构建使用文档。该公司据报积极地从中国顶尖高校吸引年轻的人工智能研究者并招募计算机科学领域外的人以丰富其模型的认知和能力。\n",
      "同时，DeepSeek的崛起引发争议，既带来技术突破，也激起了围绕知识产权与数据来源、隐私与数据安全、算力成本与芯片依赖等问题的广泛讨论，加剧了中美AI竞赛的紧迫感。\n",
      "\n",
      "Page: 通用人工智慧\n",
      "Summary: 強人工智慧（英語：strong AI）或通用人工智慧（artificial general intelligence，AGI）是具備與人類同等智慧、或超越人類的人工智慧，能表現正常人類所具有的所有智能行為。\n"
     ]
    }
   ],
   "source": [
    "# 测试维基百科搜索引擎的使用\n",
    "from langchain_community.tools import WikipediaQueryRun\n",
    "from langchain_community.utilities import WikipediaAPIWrapper\n",
    "\n",
    "# 创建维基百科工具实例\n",
    "wiki_tool = WikipediaQueryRun(api_wrapper=WikipediaAPIWrapper(lang=\"zh\"))\n",
    "\n",
    "# 测试搜索功能\n",
    "query = \"人工智能的应用\"\n",
    "result = wiki_tool.run(query)\n",
    "\n",
    "# 输出搜索结果\n",
    "print(\"搜索结果：\")\n",
    "print(result)\n"
   ]
  },
  {
   "cell_type": "markdown",
   "metadata": {},
   "source": [
    "## DuckDuckGo 搜索"
   ]
  },
  {
   "cell_type": "code",
   "execution_count": 3,
   "metadata": {},
   "outputs": [
    {
     "ename": "ImportError",
     "evalue": "cannot import name 'DuckDuckGoSearch' from 'langchain_community.tools' (/root/miniconda3/envs/crewai/lib/python3.10/site-packages/langchain_community/tools/__init__.py)",
     "output_type": "error",
     "traceback": [
      "\u001b[0;31m---------------------------------------------------------------------------\u001b[0m",
      "\u001b[0;31mImportError\u001b[0m                               Traceback (most recent call last)",
      "Cell \u001b[0;32mIn[3], line 1\u001b[0m\n\u001b[0;32m----> 1\u001b[0m \u001b[38;5;28;01mfrom\u001b[39;00m\u001b[38;5;250m \u001b[39m\u001b[38;5;21;01mlangchain_community\u001b[39;00m\u001b[38;5;21;01m.\u001b[39;00m\u001b[38;5;21;01mtools\u001b[39;00m\u001b[38;5;250m \u001b[39m\u001b[38;5;28;01mimport\u001b[39;00m DuckDuckGoSearch\n\u001b[1;32m      3\u001b[0m \u001b[38;5;66;03m# 创建DuckDuckGo搜索工具实例\u001b[39;00m\n\u001b[1;32m      4\u001b[0m duckduckgo_tool \u001b[38;5;241m=\u001b[39m DuckDuckGoSearch()\n",
      "\u001b[0;31mImportError\u001b[0m: cannot import name 'DuckDuckGoSearch' from 'langchain_community.tools' (/root/miniconda3/envs/crewai/lib/python3.10/site-packages/langchain_community/tools/__init__.py)"
     ]
    }
   ],
   "source": [
    "from langchain_community.tools import DuckDuckGoSearch\n",
    "\n",
    "# 创建DuckDuckGo搜索工具实例\n",
    "duckduckgo_tool = DuckDuckGoSearch()\n",
    "\n",
    "# 测试搜索功能\n",
    "ddg_query = \"人工智能的应用\"\n",
    "ddg_result = duckduckgo_tool.run(ddg_query)\n",
    "\n",
    "# 输出搜索结果\n",
    "print(\"DuckDuckGo搜索结果：\")\n",
    "print(ddg_result)\n"
   ]
  },
  {
   "cell_type": "code",
   "execution_count": 5,
   "metadata": {},
   "outputs": [
    {
     "ename": "ImportError",
     "evalue": "cannot import name 'BaiduSearchRun' from 'langchain_community.tools' (/root/miniconda3/envs/crewai/lib/python3.10/site-packages/langchain_community/tools/__init__.py)",
     "output_type": "error",
     "traceback": [
      "\u001b[0;31m---------------------------------------------------------------------------\u001b[0m",
      "\u001b[0;31mImportError\u001b[0m                               Traceback (most recent call last)",
      "Cell \u001b[0;32mIn[5], line 1\u001b[0m\n\u001b[0;32m----> 1\u001b[0m \u001b[38;5;28;01mfrom\u001b[39;00m\u001b[38;5;250m \u001b[39m\u001b[38;5;21;01mlangchain_community\u001b[39;00m\u001b[38;5;21;01m.\u001b[39;00m\u001b[38;5;21;01mtools\u001b[39;00m\u001b[38;5;250m \u001b[39m\u001b[38;5;28;01mimport\u001b[39;00m BaiduSearchRun\n\u001b[1;32m      2\u001b[0m \u001b[38;5;28;01mfrom\u001b[39;00m\u001b[38;5;250m \u001b[39m\u001b[38;5;21;01mlangchain_community\u001b[39;00m\u001b[38;5;21;01m.\u001b[39;00m\u001b[38;5;21;01mutilities\u001b[39;00m\u001b[38;5;250m \u001b[39m\u001b[38;5;28;01mimport\u001b[39;00m BaiduSearchAPIWrapper\n\u001b[1;32m      4\u001b[0m \u001b[38;5;66;03m# 创建百度搜索工具实例\u001b[39;00m\n",
      "\u001b[0;31mImportError\u001b[0m: cannot import name 'BaiduSearchRun' from 'langchain_community.tools' (/root/miniconda3/envs/crewai/lib/python3.10/site-packages/langchain_community/tools/__init__.py)"
     ]
    }
   ],
   "source": [
    "from langchain_community.tools import BaiduSearchRun\n",
    "from langchain_community.utilities import BaiduSearchAPIWrapper\n",
    "\n",
    "# 创建百度搜索工具实例\n",
    "baidu_tool = BaiduSearchRun(api_wrapper=BaiduSearchAPIWrapper(\n",
    "    baidu_api_key=\"你的百度API Key\",\n",
    "    baidu_secret_key=\"你的百度Secret Key\"\n",
    "))\n",
    "\n",
    "# 测试搜索功能\n",
    "baidu_query = \"人工智能的应用\"\n",
    "baidu_result = baidu_tool.run(baidu_query)\n",
    "\n",
    "# 输出搜索结果\n",
    "print(\"百度搜索结果：\")\n",
    "print(baidu_result)"
   ]
  },
  {
   "cell_type": "markdown",
   "metadata": {},
   "source": [
    "##  测试连接"
   ]
  },
  {
   "cell_type": "code",
   "execution_count": null,
   "metadata": {},
   "outputs": [
    {
     "name": "stdout",
     "output_type": "stream",
     "text": [
      "API连接测试成功!\n",
      "测试响应: 连接测试成功！请问有什么我可以帮助您的吗？\n"
     ]
    }
   ],
   "source": [
    "# 测试LLM连接\n",
    "\n",
    "import streamlit as st\n",
    "from crewai import LLM\n",
    "\n",
    "\n",
    "try:\n",
    "    llm = LLM(\n",
    "            model='gpt-4o-mini',\n",
    "            temperature=0.1,\n",
    "            api_key=\"sk-VmV58410d5c26c547e414caa06c9c2030e8dcad0eebpkAlQ\", \n",
    "            api_base=\"https://api.gptsapi.net/v1\",\n",
    "            system_prompt=\"你是一位专业的AI助手。请始终使用中文回答所有问题。确保输出的所有内容都是中文，包括标题、分析和建议。\"\n",
    "        )\n",
    "    \n",
    "    test_response = llm.call(\"测试连接\")\n",
    "    if not test_response:\n",
    "        print(\"API连接测试失败, 请检查API密钥和服务地址是否正确。\")\n",
    "    else:\n",
    "        print(\"API连接测试成功!\")\n",
    "        print(f\"测试响应: {test_response}\")\n",
    "except Exception as e:\n",
    "    print(f\"API连接失败：{str(e)}\")\n",
    "    print(\"请检查：\\n1. API密钥是否正确\\n2. API服务地址是否可访问\\n3. 网络连接是否正常\")\n"
   ]
  },
  {
   "cell_type": "code",
   "execution_count": null,
   "metadata": {},
   "outputs": [],
   "source": []
  }
 ],
 "metadata": {
  "kernelspec": {
   "display_name": "crewai",
   "language": "python",
   "name": "python3"
  },
  "language_info": {
   "codemirror_mode": {
    "name": "ipython",
    "version": 3
   },
   "file_extension": ".py",
   "mimetype": "text/x-python",
   "name": "python",
   "nbconvert_exporter": "python",
   "pygments_lexer": "ipython3",
   "version": "3.10.16"
  }
 },
 "nbformat": 4,
 "nbformat_minor": 2
}
